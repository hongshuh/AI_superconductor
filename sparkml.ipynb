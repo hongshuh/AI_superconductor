{
 "cells": [
  {
   "cell_type": "code",
   "execution_count": 89,
   "metadata": {},
   "outputs": [],
   "source": [
    "import pyspark\n",
    "from pyspark.sql import SparkSession, SQLContext\n",
    "from pyspark.ml import Pipeline,Transformer\n",
    "from pyspark.ml.feature import Imputer,StandardScaler,StringIndexer,OneHotEncoder, VectorAssembler\n",
    "import pandas as pd\n",
    "from pyspark.sql.functions import *\n",
    "from pyspark.sql.types import *\n",
    "import numpy as np\n",
    "\n",
    "spark = SparkSession.builder \\\n",
    "    .master(\"local[*]\") \\\n",
    "    .appName(\"GenericAppName\") \\\n",
    "    .getOrCreate()"
   ]
  },
  {
   "cell_type": "code",
   "execution_count": 96,
   "metadata": {},
   "outputs": [],
   "source": [
    "origin = pd.read_csv('new_data_merge.csv')\n",
    "train = pd.read_csv('./roost/train.csv')\n",
    "test = pd.read_csv('./roost/test.csv')\n",
    "train.columns=['material_id','material','tc']\n",
    "test.columns=['material_id','material','tc']\n",
    "new_train = pd.merge(train['material'],origin,on=['material'],how='inner')\n",
    "new_test = pd.merge(test['material'],origin,on=['material'],how='inner')\n",
    "\n",
    "new_train.to_csv(\"./sparkml_data/3/train.csv\",index=None)\n",
    "new_test.to_csv(\"./sparkml_data/3/test.csv\",index=None)\n"
   ]
  },
  {
   "cell_type": "code",
   "execution_count": 110,
   "metadata": {},
   "outputs": [
    {
     "name": "stdout",
     "output_type": "stream",
     "text": [
      "root\n",
      " |-- material: string (nullable = true)\n",
      " |-- number_of_elements: double (nullable = true)\n",
      " |-- mean_atomic_mass: double (nullable = true)\n",
      " |-- wtd_mean_atomic_mass: double (nullable = true)\n",
      " |-- gmean_atomic_mass: double (nullable = true)\n",
      " |-- wtd_gmean_atomic_mass: double (nullable = true)\n",
      " |-- entropy_atomic_mass: double (nullable = true)\n",
      " |-- wtd_entropy_atomic_mass: double (nullable = true)\n",
      " |-- range_atomic_mass: double (nullable = true)\n",
      " |-- wtd_range_atomic_mass: double (nullable = true)\n",
      " |-- std_atomic_mass: double (nullable = true)\n",
      " |-- wtd_std_atomic_mass: double (nullable = true)\n",
      " |-- mean_fie: double (nullable = true)\n",
      " |-- wtd_mean_fie: double (nullable = true)\n",
      " |-- gmean_fie: double (nullable = true)\n",
      " |-- wtd_gmean_fie: double (nullable = true)\n",
      " |-- entropy_fie: double (nullable = true)\n",
      " |-- wtd_entropy_fie: double (nullable = true)\n",
      " |-- range_fie: double (nullable = true)\n",
      " |-- wtd_range_fie: double (nullable = true)\n",
      " |-- std_fie: double (nullable = true)\n",
      " |-- wtd_std_fie: double (nullable = true)\n",
      " |-- mean_atomic_radius: double (nullable = true)\n",
      " |-- wtd_mean_atomic_radius: double (nullable = true)\n",
      " |-- gmean_atomic_radius: double (nullable = true)\n",
      " |-- wtd_gmean_atomic_radius: double (nullable = true)\n",
      " |-- entropy_atomic_radius: double (nullable = true)\n",
      " |-- wtd_entropy_atomic_radius: double (nullable = true)\n",
      " |-- range_atomic_radius: double (nullable = true)\n",
      " |-- wtd_range_atomic_radius: double (nullable = true)\n",
      " |-- std_atomic_radius: double (nullable = true)\n",
      " |-- wtd_std_atomic_radius: double (nullable = true)\n",
      " |-- mean_Density: double (nullable = true)\n",
      " |-- wtd_mean_Density: double (nullable = true)\n",
      " |-- gmean_Density: double (nullable = true)\n",
      " |-- wtd_gmean_Density: double (nullable = true)\n",
      " |-- entropy_Density: double (nullable = true)\n",
      " |-- wtd_entropy_Density: double (nullable = true)\n",
      " |-- range_Density: double (nullable = true)\n",
      " |-- wtd_range_Density: double (nullable = true)\n",
      " |-- std_Density: double (nullable = true)\n",
      " |-- wtd_std_Density: double (nullable = true)\n",
      " |-- mean_ElectronAffinity: double (nullable = true)\n",
      " |-- wtd_mean_ElectronAffinity: double (nullable = true)\n",
      " |-- gmean_ElectronAffinity: double (nullable = true)\n",
      " |-- wtd_gmean_ElectronAffinity: double (nullable = true)\n",
      " |-- entropy_ElectronAffinity: double (nullable = true)\n",
      " |-- wtd_entropy_ElectronAffinity: double (nullable = true)\n",
      " |-- range_ElectronAffinity: double (nullable = true)\n",
      " |-- wtd_range_ElectronAffinity: double (nullable = true)\n",
      " |-- std_ElectronAffinity: double (nullable = true)\n",
      " |-- wtd_std_ElectronAffinity: double (nullable = true)\n",
      " |-- mean_FusionHeat: double (nullable = true)\n",
      " |-- wtd_mean_FusionHeat: double (nullable = true)\n",
      " |-- gmean_FusionHeat: double (nullable = true)\n",
      " |-- wtd_gmean_FusionHeat: double (nullable = true)\n",
      " |-- entropy_FusionHeat: double (nullable = true)\n",
      " |-- wtd_entropy_FusionHeat: double (nullable = true)\n",
      " |-- range_FusionHeat: double (nullable = true)\n",
      " |-- wtd_range_FusionHeat: double (nullable = true)\n",
      " |-- std_FusionHeat: double (nullable = true)\n",
      " |-- wtd_std_FusionHeat: double (nullable = true)\n",
      " |-- mean_ThermalConductivity: double (nullable = true)\n",
      " |-- wtd_mean_ThermalConductivity: double (nullable = true)\n",
      " |-- gmean_ThermalConductivity: double (nullable = true)\n",
      " |-- wtd_gmean_ThermalConductivity: double (nullable = true)\n",
      " |-- entropy_ThermalConductivity: double (nullable = true)\n",
      " |-- wtd_entropy_ThermalConductivity: double (nullable = true)\n",
      " |-- range_ThermalConductivity: double (nullable = true)\n",
      " |-- wtd_range_ThermalConductivity: double (nullable = true)\n",
      " |-- std_ThermalConductivity: double (nullable = true)\n",
      " |-- wtd_std_ThermalConductivity: double (nullable = true)\n",
      " |-- mean_Valence: double (nullable = true)\n",
      " |-- wtd_mean_Valence: double (nullable = true)\n",
      " |-- gmean_Valence: double (nullable = true)\n",
      " |-- wtd_gmean_Valence: double (nullable = true)\n",
      " |-- entropy_Valence: double (nullable = true)\n",
      " |-- wtd_entropy_Valence: double (nullable = true)\n",
      " |-- range_Valence: double (nullable = true)\n",
      " |-- wtd_range_Valence: double (nullable = true)\n",
      " |-- std_Valence: double (nullable = true)\n",
      " |-- wtd_std_Valence: double (nullable = true)\n",
      " |-- H: double (nullable = true)\n",
      " |-- He: double (nullable = true)\n",
      " |-- Li: double (nullable = true)\n",
      " |-- Be: double (nullable = true)\n",
      " |-- B: double (nullable = true)\n",
      " |-- C: double (nullable = true)\n",
      " |-- N: double (nullable = true)\n",
      " |-- O: double (nullable = true)\n",
      " |-- F: double (nullable = true)\n",
      " |-- Ne: double (nullable = true)\n",
      " |-- Na: double (nullable = true)\n",
      " |-- Mg: double (nullable = true)\n",
      " |-- Al: double (nullable = true)\n",
      " |-- Si: double (nullable = true)\n",
      " |-- P: double (nullable = true)\n",
      " |-- S: double (nullable = true)\n",
      " |-- Cl: double (nullable = true)\n",
      " |-- Ar: double (nullable = true)\n",
      " |-- K: double (nullable = true)\n",
      " |-- Ca: double (nullable = true)\n",
      " |-- Sc: double (nullable = true)\n",
      " |-- Ti: double (nullable = true)\n",
      " |-- V: double (nullable = true)\n",
      " |-- Cr: double (nullable = true)\n",
      " |-- Mn: double (nullable = true)\n",
      " |-- Fe: double (nullable = true)\n",
      " |-- Co: double (nullable = true)\n",
      " |-- Ni: double (nullable = true)\n",
      " |-- Cu: double (nullable = true)\n",
      " |-- Zn: double (nullable = true)\n",
      " |-- Ga: double (nullable = true)\n",
      " |-- Ge: double (nullable = true)\n",
      " |-- As: double (nullable = true)\n",
      " |-- Se: double (nullable = true)\n",
      " |-- Br: double (nullable = true)\n",
      " |-- Kr: double (nullable = true)\n",
      " |-- Rb: double (nullable = true)\n",
      " |-- Sr: double (nullable = true)\n",
      " |-- Y: double (nullable = true)\n",
      " |-- Zr: double (nullable = true)\n",
      " |-- Nb: double (nullable = true)\n",
      " |-- Mo: double (nullable = true)\n",
      " |-- Tc: double (nullable = true)\n",
      " |-- Ru: double (nullable = true)\n",
      " |-- Rh: double (nullable = true)\n",
      " |-- Pd: double (nullable = true)\n",
      " |-- Ag: double (nullable = true)\n",
      " |-- Cd: double (nullable = true)\n",
      " |-- In: double (nullable = true)\n",
      " |-- Sn: double (nullable = true)\n",
      " |-- Sb: double (nullable = true)\n",
      " |-- Te: double (nullable = true)\n",
      " |-- I: double (nullable = true)\n",
      " |-- Xe: double (nullable = true)\n",
      " |-- Cs: double (nullable = true)\n",
      " |-- Ba: double (nullable = true)\n",
      " |-- La: double (nullable = true)\n",
      " |-- Ce: double (nullable = true)\n",
      " |-- Pr: double (nullable = true)\n",
      " |-- Nd: double (nullable = true)\n",
      " |-- Pm: double (nullable = true)\n",
      " |-- Sm: double (nullable = true)\n",
      " |-- Eu: double (nullable = true)\n",
      " |-- Gd: double (nullable = true)\n",
      " |-- Tb: double (nullable = true)\n",
      " |-- Dy: double (nullable = true)\n",
      " |-- Ho: double (nullable = true)\n",
      " |-- Er: double (nullable = true)\n",
      " |-- Tm: double (nullable = true)\n",
      " |-- Yb: double (nullable = true)\n",
      " |-- Lu: double (nullable = true)\n",
      " |-- Hf: double (nullable = true)\n",
      " |-- Ta: double (nullable = true)\n",
      " |-- W: double (nullable = true)\n",
      " |-- Re: double (nullable = true)\n",
      " |-- Os: double (nullable = true)\n",
      " |-- Ir: double (nullable = true)\n",
      " |-- Pt: double (nullable = true)\n",
      " |-- Au: double (nullable = true)\n",
      " |-- Hg: double (nullable = true)\n",
      " |-- Tl: double (nullable = true)\n",
      " |-- Pb: double (nullable = true)\n",
      " |-- Bi: double (nullable = true)\n",
      " |-- Po: double (nullable = true)\n",
      " |-- At: double (nullable = true)\n",
      " |-- Rn: double (nullable = true)\n",
      " |-- critical_temp: double (nullable = true)\n",
      "\n"
     ]
    }
   ],
   "source": [
    "train = spark.read.csv('./sparkml_data/3/train.csv',header=True,inferSchema=True)\n",
    "test = spark.read.csv('./sparkml_data/3/test.csv',header=True,inferSchema=True)\n",
    "\n",
    "train.printSchema()\n"
   ]
  },
  {
   "cell_type": "code",
   "execution_count": 111,
   "metadata": {},
   "outputs": [],
   "source": [
    "continuous_cols = ['number_of_elements', 'mean_atomic_mass', 'wtd_mean_atomic_mass', 'gmean_atomic_mass', 'wtd_gmean_atomic_mass', \n",
    "'entropy_atomic_mass', 'wtd_entropy_atomic_mass', 'range_atomic_mass', 'wtd_range_atomic_mass', 'std_atomic_mass', 'wtd_std_atomic_mass', \n",
    "'mean_fie', 'wtd_mean_fie', 'gmean_fie', 'wtd_gmean_fie', 'entropy_fie', 'wtd_entropy_fie', 'range_fie', 'wtd_range_fie', 'std_fie', \n",
    "'wtd_std_fie', 'mean_atomic_radius', 'wtd_mean_atomic_radius', 'gmean_atomic_radius', 'wtd_gmean_atomic_radius', 'entropy_atomic_radius', \n",
    "'wtd_entropy_atomic_radius', 'range_atomic_radius', 'wtd_range_atomic_radius', 'std_atomic_radius', 'wtd_std_atomic_radius', \n",
    "'mean_Density', 'wtd_mean_Density', 'gmean_Density', 'wtd_gmean_Density', 'entropy_Density', 'wtd_entropy_Density', 'range_Density', \n",
    "'wtd_range_Density', 'std_Density', 'wtd_std_Density', 'mean_ElectronAffinity', 'wtd_mean_ElectronAffinity', 'gmean_ElectronAffinity', \n",
    "'wtd_gmean_ElectronAffinity', 'entropy_ElectronAffinity', 'wtd_entropy_ElectronAffinity', 'range_ElectronAffinity', 'wtd_range_ElectronAffinity', \n",
    "'std_ElectronAffinity', 'wtd_std_ElectronAffinity', 'mean_FusionHeat', 'wtd_mean_FusionHeat', 'gmean_FusionHeat', 'wtd_gmean_FusionHeat', \n",
    "'entropy_FusionHeat', 'wtd_entropy_FusionHeat', 'range_FusionHeat', 'wtd_range_FusionHeat', 'std_FusionHeat', 'wtd_std_FusionHeat', \n",
    "'mean_ThermalConductivity', 'wtd_mean_ThermalConductivity', 'gmean_ThermalConductivity', 'wtd_gmean_ThermalConductivity', \n",
    "'entropy_ThermalConductivity', 'wtd_entropy_ThermalConductivity', 'range_ThermalConductivity', 'wtd_range_ThermalConductivity',\n",
    " 'std_ThermalConductivity', 'wtd_std_ThermalConductivity', 'mean_Valence', 'wtd_mean_Valence', 'gmean_Valence', 'wtd_gmean_Valence',\n",
    "  'entropy_Valence', 'wtd_entropy_Valence', 'range_Valence', 'wtd_range_Valence', 'std_Valence', 'wtd_std_Valence', 'H', 'He', 'Li',\n",
    "   'Be', 'B', 'C', 'N', 'O', 'F', 'Ne', 'Na', 'Mg', 'Al', 'Si', 'P', 'S', 'Cl', 'Ar', 'K', 'Ca', 'Sc', 'Ti', 'V', 'Cr', 'Mn', 'Fe',\n",
    "    'Co', 'Ni', 'Cu', 'Zn', 'Ga', 'Ge', 'As', 'Se', 'Br', 'Kr', 'Rb', 'Sr', 'Y', 'Zr', 'Nb', 'Mo', 'Tc', 'Ru', 'Rh', 'Pd', 'Ag', 'Cd', \n",
    "    'In', 'Sn', 'Sb', 'Te', 'I', 'Xe', 'Cs', 'Ba', 'La', 'Ce', 'Pr', 'Nd', 'Pm', 'Sm', 'Eu', 'Gd', 'Tb', 'Dy', 'Ho', 'Er', 'Tm', 'Yb', 'Lu',\n",
    "     'Hf', 'Ta', 'W', 'Re', 'Os', 'Ir', 'Pt', 'Au', 'Hg', 'Tl', 'Pb', 'Bi', 'Po', 'At', 'Rn']\n",
    "binary_cols = []\n",
    "nominal_cols = []\n",
    "class OutcomeCreater(Transformer): # this defines a transformer that creates the outcome column\n",
    "    \n",
    "    def __init__(self):\n",
    "        super().__init__()\n",
    "\n",
    "    def _transform(self, dataset):\n",
    "        output_df = dataset.withColumn('label', col('critical_temp').cast(DoubleType()))\n",
    "        return output_df\n",
    "\n",
    "class FeatureTypeCaster(Transformer): # this transformer will cast the columns as appropriate types  \n",
    "    def __init__(self):\n",
    "        super().__init__()\n",
    "\n",
    "    def _transform(self, dataset):\n",
    "        output_df = dataset\n",
    "        for col_name in binary_cols + continuous_cols:\n",
    "            output_df = output_df.withColumn(col_name,col(col_name).cast(DoubleType()))\n",
    "\n",
    "        return output_df\n",
    "class ColumnDropper(Transformer): # this transformer drops unnecessary columns\n",
    "    def __init__(self, columns_to_drop = None):\n",
    "        super().__init__()\n",
    "        self.columns_to_drop=columns_to_drop\n",
    "    def _transform(self, dataset):\n",
    "        output_df = dataset\n",
    "        for col_name in self.columns_to_drop:\n",
    "            output_df = output_df.drop(col_name)\n",
    "        return output_df\n",
    "\n",
    "def get_preprocess_pipeline():\n",
    "    # Stage where columns are casted as appropriate types\n",
    "    stage_typecaster = FeatureTypeCaster()\n",
    "\n",
    "    # Stage where nominal columns are transformed to index columns using StringIndexer\n",
    "    nominal_id_cols = [x+\"_index\" for x in nominal_cols]\n",
    "    nominal_onehot_cols = [x+\"_encoded\" for x in nominal_cols]\n",
    "    stage_nominal_indexer = StringIndexer(inputCols = nominal_cols, outputCols = nominal_id_cols )\n",
    "\n",
    "    # Stage where the index columns are further transformed using OneHotEncoder\n",
    "    stage_nominal_onehot_encoder = OneHotEncoder(inputCols=nominal_id_cols, outputCols=nominal_onehot_cols)\n",
    "\n",
    "    # Stage where all relevant features are assembled into a vector (and dropping a few)\n",
    "    feature_cols = continuous_cols+binary_cols+nominal_onehot_cols\n",
    "    # corelated_cols_to_remove = [\"dst_host_serror_rate\",\"srv_serror_rate\",\"dst_host_srv_serror_rate\",\n",
    "    #                  \"srv_rerror_rate\",\"dst_host_rerror_rate\",\"dst_host_srv_rerror_rate\"]\n",
    "    # for col_name in corelated_cols_to_remove:\n",
    "    #     feature_cols.remove(col_name)\n",
    "    stage_vector_assembler = VectorAssembler(inputCols=feature_cols, outputCol=\"vectorized_features\")\n",
    "\n",
    "    # Stage where we scale the columns\n",
    "    stage_scaler = StandardScaler(inputCol= 'vectorized_features', outputCol= 'features')\n",
    "    \n",
    "\n",
    "    # Stage for creating the outcome column representing whether there is attack \n",
    "    stage_outcome = OutcomeCreater()\n",
    "\n",
    "    # Removing all unnecessary columbs, only keeping the 'features' and 'outcome' columns\n",
    "    stage_column_dropper = ColumnDropper(columns_to_drop = nominal_cols+nominal_id_cols+\n",
    "        nominal_onehot_cols+ binary_cols + continuous_cols + ['vectorized_features']+['critical_temp']+['material'])\n",
    "    # Connect the columns into a pipeline\n",
    "    pipeline = Pipeline(stages=[stage_typecaster,stage_nominal_indexer,stage_nominal_onehot_encoder,\n",
    "        stage_vector_assembler,stage_scaler,stage_outcome,stage_column_dropper])\n",
    "    return pipeline "
   ]
  },
  {
   "cell_type": "code",
   "execution_count": 112,
   "metadata": {},
   "outputs": [
    {
     "name": "stdout",
     "output_type": "stream",
     "text": [
      "+--------------------+------------------+\n",
      "|            features|             label|\n",
      "+--------------------+------------------+\n",
      "|(167,[0,1,2,3,4,5...|11.796666666666669|\n",
      "|(167,[0,1,2,3,4,5...|             4.655|\n",
      "|(167,[0,1,2,3,4,5...|              0.66|\n",
      "|(167,[0,1,2,3,4,5...|               1.5|\n",
      "|(167,[0,1,2,3,4,5...|               3.6|\n",
      "+--------------------+------------------+\n",
      "only showing top 5 rows\n",
      "\n"
     ]
    }
   ],
   "source": [
    "preprocess_pipeline = get_preprocess_pipeline()\n",
    "\n",
    "pipline_model = preprocess_pipeline.fit(train)\n",
    "train_df = pipline_model.transform(train)\n",
    "test_df = pipline_model.transform(test)\n",
    "\n",
    "train_df.show(5)"
   ]
  },
  {
   "cell_type": "code",
   "execution_count": 113,
   "metadata": {},
   "outputs": [
    {
     "name": "stdout",
     "output_type": "stream",
     "text": [
      "22/12/02 10:42:00 WARN Instrumentation: [a69ca685] regParam is zero, which might cause numerical instability and overfitting.\n",
      "22/12/02 10:42:00 WARN Instrumentation: [a69ca685] Cholesky solver failed due to singular covariance matrix. Retrying with Quasi-Newton solver.\n"
     ]
    }
   ],
   "source": [
    "from pyspark.ml.regression import RandomForestRegressor\n",
    "from pyspark.ml.regression import LinearRegression,GBTRegressor\n",
    "from pyspark.ml.tuning import ParamGridBuilder, CrossValidator\n",
    "\n",
    "\n",
    "\n",
    "\n",
    "lr = LinearRegression()\n",
    "rf = RandomForestRegressor()\n",
    "gbt = GBTRegressor()\n",
    "lr_model = lr.fit(train_df)\n",
    "rf_model = rf.fit(train_df)\n",
    "gbt_model = gbt.fit(train_df)\n",
    "lr_pred = lr_model.transform(test_df)\n",
    "rf_pred = rf_model.transform(test_df)\n",
    "gbt_pred = gbt_model.transform(test_df)"
   ]
  },
  {
   "cell_type": "code",
   "execution_count": 114,
   "metadata": {},
   "outputs": [],
   "source": [
    "lr_result = lr_pred.toPandas()\n",
    "lr_result = lr_result.drop(columns=['features'])\n",
    "rf_result = rf_pred.toPandas()\n",
    "rf_result = rf_result.drop(columns=['features'])\n",
    "gbt_result = gbt_pred.toPandas()\n",
    "gbt_result = gbt_result.drop(columns=['features'])"
   ]
  },
  {
   "cell_type": "code",
   "execution_count": 115,
   "metadata": {},
   "outputs": [],
   "source": [
    "lr_result.to_csv('./lr_result/lr_result3',index=None)\n",
    "rf_result.to_csv('./rf_result/rf_result3',index=None)\n",
    "gbt_result.to_csv('./gbt_result/gbt_result3',index=None)"
   ]
  },
  {
   "cell_type": "code",
   "execution_count": 86,
   "metadata": {},
   "outputs": [
    {
     "data": {
      "text/plain": [
       "<matplotlib.legend.Legend at 0x7ff263271790>"
      ]
     },
     "execution_count": 86,
     "metadata": {},
     "output_type": "execute_result"
    },
    {
     "data": {
      "image/png": "[encoded data removed]",
      "text/plain": [
       "<Figure size 640x480 with 1 Axes>"
      ]
     },
     "metadata": {},
     "output_type": "display_data"
    }
   ],
   "source": [
    "import matplotlib.pyplot as plt\n",
    "lr_result = lr_pred.toPandas()\n",
    "lr_result = lr_result.drop(columns=['features'])\n",
    "rf_result = rf_pred.toPandas()\n",
    "rf_result = rf_result.drop(columns=['features'])\n",
    "gbt_result = gbt_pred.toPandas()\n",
    "gbt_result = gbt_result.drop(columns=['features'])\n",
    "plt.scatter(lr_result.label,lr_result.prediction,alpha=0.3,label='lr')\n",
    "plt.plot(lr_result.label,lr_result.label,c='r')\n",
    "plt.scatter(gbt_result.label,gbt_result.prediction,alpha=0.3,label='gbt')\n",
    "plt.plot(gbt_result.label,gbt_result.label,c='r')\n",
    "plt.scatter(rf_result.label,rf_result.prediction,alpha=0.3,label='rf')\n",
    "plt.plot(rf_result.label,rf_result.label,c='r')\n",
    "plt.legend()\n"
   ]
  },
  {
   "cell_type": "code",
   "execution_count": 87,
   "metadata": {},
   "outputs": [
    {
     "name": "stdout",
     "output_type": "stream",
     "text": [
      "0.8890412979503874\n",
      "0.7118315142596986\n",
      "0.787708541412016\n"
     ]
    },
    {
     "name": "stdout",
     "output_type": "stream",
     "text": [
      "22/12/01 21:36:21 WARN HeartbeatReceiver: Removing executor driver with no recent heartbeats: 561364 ms exceeds timeout 120000 ms\n",
      "22/12/01 21:36:21 WARN SparkContext: Killing executors is not supported by current scheduler.\n"
     ]
    }
   ],
   "source": [
    "print(r2_score(rf_result.label,rf_result.prediction))\n",
    "print(r2_score(lr_result.label,lr_result.prediction))\n",
    "print(r2_score(gbt_result.label,gbt_result.prediction))\n"
   ]
  },
  {
   "cell_type": "code",
   "execution_count": 72,
   "metadata": {},
   "outputs": [
    {
     "name": "stdout",
     "output_type": "stream",
     "text": [
      "0.8890412979503874\n"
     ]
    },
    {
     "data": {
      "image/png": "[encoded data removed]",
      "text/plain": [
       "<Figure size 640x480 with 1 Axes>"
      ]
     },
     "metadata": {},
     "output_type": "display_data"
    }
   ],
   "source": [
    "import matplotlib.pyplot as plt\n",
    "rf_result = rf_pred.toPandas()\n",
    "rf_result = rf_result.drop(columns=['features'])\n",
    "# print(type(lr_pred))\n",
    "# print(lr_result)\n",
    "plt.scatter(rf_result.label,rf_result.prediction,alpha=0.3)\n",
    "plt.plot(rf_result.label,rf_result.label,c='r')\n",
    "print(r2_score(rf_result.label,rf_result.prediction))\n"
   ]
  },
  {
   "cell_type": "code",
   "execution_count": 62,
   "metadata": {},
   "outputs": [],
   "source": [
    "lr_result.to_csv('./linear_regression/lr_result2',index=None)"
   ]
  },
  {
   "cell_type": "code",
   "execution_count": 63,
   "metadata": {},
   "outputs": [
    {
     "name": "stdout",
     "output_type": "stream",
     "text": [
      "-3.119444953009463\n"
     ]
    }
   ],
   "source": [
    "from sklearn.metrics import mean_squared_error as mse\n",
    "from sklearn.metrics import r2_score\n",
    "from sklearn.metrics import mean_absolute_error as mae\n",
    "\n",
    "\n",
    "print(r2_score(lr_result.label,lr_result.prediction))"
   ]
  },
  {
   "cell_type": "code",
   "execution_count": null,
   "metadata": {},
   "outputs": [],
   "source": []
  }
 ],
 "metadata": {
  "kernelspec": {
   "display_name": "Python 3.9.12 ('base')",
   "language": "python",
   "name": "python3"
  },
  "language_info": {
   "codemirror_mode": {
    "name": "ipython",
    "version": 3
   },
   "file_extension": ".py",
   "mimetype": "text/x-python",
   "name": "python",
   "nbconvert_exporter": "python",
   "pygments_lexer": "ipython3",
   "version": "3.9.12"
  },
  "orig_nbformat": 4,
  "vscode": {
   "interpreter": {
    "hash": "40d3a090f54c6569ab1632332b64b2c03c39dcf918b08424e98f38b5ae0af88f"
   }
  }
 },
 "nbformat": 4,
 "nbformat_minor": 2
}
